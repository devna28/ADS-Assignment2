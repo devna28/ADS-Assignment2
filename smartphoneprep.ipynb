{
 "cells": [
  {
   "cell_type": "code",
   "execution_count": 1,
   "id": "2575b410-2c8e-4f67-af65-70eb1ce694f1",
   "metadata": {},
   "outputs": [],
   "source": [
    "import pandas as pd\n",
    "import numpy as np"
   ]
  },
  {
   "cell_type": "code",
   "execution_count": 2,
   "id": "7a9b1212-2891-43b6-84a5-b070fb0f3160",
   "metadata": {},
   "outputs": [
    {
     "data": {
      "text/html": [
       "<div>\n",
       "<style scoped>\n",
       "    .dataframe tbody tr th:only-of-type {\n",
       "        vertical-align: middle;\n",
       "    }\n",
       "\n",
       "    .dataframe tbody tr th {\n",
       "        vertical-align: top;\n",
       "    }\n",
       "\n",
       "    .dataframe thead th {\n",
       "        text-align: right;\n",
       "    }\n",
       "</style>\n",
       "<table border=\"1\" class=\"dataframe\">\n",
       "  <thead>\n",
       "    <tr style=\"text-align: right;\">\n",
       "      <th></th>\n",
       "      <th>model</th>\n",
       "      <th>price</th>\n",
       "      <th>rating</th>\n",
       "      <th>sim</th>\n",
       "      <th>processor</th>\n",
       "      <th>ram</th>\n",
       "      <th>battery</th>\n",
       "      <th>display</th>\n",
       "      <th>camera</th>\n",
       "      <th>card</th>\n",
       "      <th>os</th>\n",
       "    </tr>\n",
       "  </thead>\n",
       "  <tbody>\n",
       "    <tr>\n",
       "      <th>0</th>\n",
       "      <td>OnePlus 11 5G</td>\n",
       "      <td>₹54,999</td>\n",
       "      <td>89.0</td>\n",
       "      <td>Dual Sim, 3G, 4G, 5G, VoLTE, Wi-Fi, NFC</td>\n",
       "      <td>Snapdragon 8 Gen2, Octa Core, 3.2 GHz Processor</td>\n",
       "      <td>12 GB RAM, 256 GB inbuilt</td>\n",
       "      <td>5000 mAh Battery with 100W Fast Charging</td>\n",
       "      <td>6.7 inches, 1440 x 3216 px, 120 Hz Display wit...</td>\n",
       "      <td>50 MP + 48 MP + 32 MP Triple Rear &amp; 16 MP Fron...</td>\n",
       "      <td>Memory Card Not Supported</td>\n",
       "      <td>Android v13</td>\n",
       "    </tr>\n",
       "    <tr>\n",
       "      <th>1</th>\n",
       "      <td>OnePlus Nord CE 2 Lite 5G</td>\n",
       "      <td>₹19,989</td>\n",
       "      <td>81.0</td>\n",
       "      <td>Dual Sim, 3G, 4G, 5G, VoLTE, Wi-Fi</td>\n",
       "      <td>Snapdragon 695, Octa Core, 2.2 GHz Processor</td>\n",
       "      <td>6 GB RAM, 128 GB inbuilt</td>\n",
       "      <td>5000 mAh Battery with 33W Fast Charging</td>\n",
       "      <td>6.59 inches, 1080 x 2412 px, 120 Hz Display wi...</td>\n",
       "      <td>64 MP + 2 MP + 2 MP Triple Rear &amp; 16 MP Front ...</td>\n",
       "      <td>Memory Card (Hybrid), upto 1 TB</td>\n",
       "      <td>Android v12</td>\n",
       "    </tr>\n",
       "    <tr>\n",
       "      <th>2</th>\n",
       "      <td>Samsung Galaxy A14 5G</td>\n",
       "      <td>₹16,499</td>\n",
       "      <td>75.0</td>\n",
       "      <td>Dual Sim, 3G, 4G, 5G, VoLTE, Wi-Fi</td>\n",
       "      <td>Exynos 1330, Octa Core, 2.4 GHz Processor</td>\n",
       "      <td>4 GB RAM, 64 GB inbuilt</td>\n",
       "      <td>5000 mAh Battery with 15W Fast Charging</td>\n",
       "      <td>6.6 inches, 1080 x 2408 px, 90 Hz Display with...</td>\n",
       "      <td>50 MP + 2 MP + 2 MP Triple Rear &amp; 13 MP Front ...</td>\n",
       "      <td>Memory Card Supported, upto 1 TB</td>\n",
       "      <td>Android v13</td>\n",
       "    </tr>\n",
       "    <tr>\n",
       "      <th>3</th>\n",
       "      <td>Motorola Moto G62 5G</td>\n",
       "      <td>₹14,999</td>\n",
       "      <td>81.0</td>\n",
       "      <td>Dual Sim, 3G, 4G, 5G, VoLTE, Wi-Fi</td>\n",
       "      <td>Snapdragon  695, Octa Core, 2.2 GHz Processor</td>\n",
       "      <td>6 GB RAM, 128 GB inbuilt</td>\n",
       "      <td>5000 mAh Battery with Fast Charging</td>\n",
       "      <td>6.55 inches, 1080 x 2400 px, 120 Hz Display wi...</td>\n",
       "      <td>50 MP + 8 MP + 2 MP Triple Rear &amp; 16 MP Front ...</td>\n",
       "      <td>Memory Card (Hybrid), upto 1 TB</td>\n",
       "      <td>Android v12</td>\n",
       "    </tr>\n",
       "    <tr>\n",
       "      <th>4</th>\n",
       "      <td>Realme 10 Pro Plus</td>\n",
       "      <td>₹24,999</td>\n",
       "      <td>82.0</td>\n",
       "      <td>Dual Sim, 3G, 4G, 5G, VoLTE, Wi-Fi</td>\n",
       "      <td>Dimensity 1080, Octa Core, 2.6 GHz Processor</td>\n",
       "      <td>6 GB RAM, 128 GB inbuilt</td>\n",
       "      <td>5000 mAh Battery with 67W Fast Charging</td>\n",
       "      <td>6.7 inches, 1080 x 2412 px, 120 Hz Display wit...</td>\n",
       "      <td>108 MP + 8 MP + 2 MP Triple Rear &amp; 16 MP Front...</td>\n",
       "      <td>Memory Card Not Supported</td>\n",
       "      <td>Android v13</td>\n",
       "    </tr>\n",
       "    <tr>\n",
       "      <th>...</th>\n",
       "      <td>...</td>\n",
       "      <td>...</td>\n",
       "      <td>...</td>\n",
       "      <td>...</td>\n",
       "      <td>...</td>\n",
       "      <td>...</td>\n",
       "      <td>...</td>\n",
       "      <td>...</td>\n",
       "      <td>...</td>\n",
       "      <td>...</td>\n",
       "      <td>...</td>\n",
       "    </tr>\n",
       "    <tr>\n",
       "      <th>1015</th>\n",
       "      <td>Motorola Moto Edge S30 Pro</td>\n",
       "      <td>₹34,990</td>\n",
       "      <td>83.0</td>\n",
       "      <td>Dual Sim, 3G, 4G, 5G, VoLTE, Wi-Fi</td>\n",
       "      <td>Snapdragon 8 Gen1, Octa Core, 3 GHz Processor</td>\n",
       "      <td>8 GB RAM, 128 GB inbuilt</td>\n",
       "      <td>5000 mAh Battery with 68.2W Fast Charging</td>\n",
       "      <td>6.67 inches, 1080 x 2460 px, 120 Hz Display wi...</td>\n",
       "      <td>64 MP + 8 MP + 2 MP Triple Rear &amp; 16 MP Front ...</td>\n",
       "      <td>Android v12</td>\n",
       "      <td>No FM Radio</td>\n",
       "    </tr>\n",
       "    <tr>\n",
       "      <th>1016</th>\n",
       "      <td>Honor X8 5G</td>\n",
       "      <td>₹14,990</td>\n",
       "      <td>75.0</td>\n",
       "      <td>Dual Sim, 3G, 4G, 5G, VoLTE, Wi-Fi</td>\n",
       "      <td>Snapdragon  480+, Octa Core, 2.2 GHz Processor</td>\n",
       "      <td>6 GB RAM, 128 GB inbuilt</td>\n",
       "      <td>5000 mAh Battery with 22.5W Fast Charging</td>\n",
       "      <td>6.5 inches, 720 x 1600 px Display with Water D...</td>\n",
       "      <td>48 MP + 2 MP + Depth Sensor Triple Rear &amp; 8 MP...</td>\n",
       "      <td>Memory Card Supported, upto 1 TB</td>\n",
       "      <td>Android v11</td>\n",
       "    </tr>\n",
       "    <tr>\n",
       "      <th>1017</th>\n",
       "      <td>POCO X4 GT 5G (8GB RAM + 256GB)</td>\n",
       "      <td>₹28,990</td>\n",
       "      <td>85.0</td>\n",
       "      <td>Dual Sim, 3G, 4G, 5G, VoLTE, Wi-Fi, NFC, IR Bl...</td>\n",
       "      <td>Dimensity 8100, Octa Core, 2.85 GHz Processor</td>\n",
       "      <td>8 GB RAM, 256 GB inbuilt</td>\n",
       "      <td>5080 mAh Battery with 67W Fast Charging</td>\n",
       "      <td>6.6 inches, 1080 x 2460 px, 144 Hz Display wit...</td>\n",
       "      <td>64 MP + 8 MP + 2 MP Triple Rear &amp; 16 MP Front ...</td>\n",
       "      <td>Memory Card Not Supported</td>\n",
       "      <td>Android v12</td>\n",
       "    </tr>\n",
       "    <tr>\n",
       "      <th>1018</th>\n",
       "      <td>Motorola Moto G91 5G</td>\n",
       "      <td>₹19,990</td>\n",
       "      <td>80.0</td>\n",
       "      <td>Dual Sim, 3G, 4G, 5G, VoLTE, Wi-Fi, NFC</td>\n",
       "      <td>Snapdragon 695, Octa Core, 2.2 GHz Processor</td>\n",
       "      <td>6 GB RAM, 128 GB inbuilt</td>\n",
       "      <td>5000 mAh Battery with Fast Charging</td>\n",
       "      <td>6.8 inches, 1080 x 2400 px Display with Punch ...</td>\n",
       "      <td>108 MP + 8 MP + 2 MP Triple Rear &amp; 32 MP Front...</td>\n",
       "      <td>Memory Card Supported, upto 1 TB</td>\n",
       "      <td>Android v12</td>\n",
       "    </tr>\n",
       "    <tr>\n",
       "      <th>1019</th>\n",
       "      <td>Samsung Galaxy M52s 5G</td>\n",
       "      <td>₹24,990</td>\n",
       "      <td>74.0</td>\n",
       "      <td>Dual Sim, 3G, 4G, 5G, VoLTE, Wi-Fi</td>\n",
       "      <td>Octa Core Processor</td>\n",
       "      <td>8 GB RAM, 128 GB inbuilt</td>\n",
       "      <td>5000 mAh Battery with Fast Charging</td>\n",
       "      <td>6.5 inches, 1080 x 2400 px Display with Water ...</td>\n",
       "      <td>64 MP + 8 MP + 5 MP Triple Rear &amp; 32 MP Front ...</td>\n",
       "      <td>Memory Card Supported, upto 1 TB</td>\n",
       "      <td>Android v12</td>\n",
       "    </tr>\n",
       "  </tbody>\n",
       "</table>\n",
       "<p>1020 rows × 11 columns</p>\n",
       "</div>"
      ],
      "text/plain": [
       "                                model    price  rating  \\\n",
       "0                       OnePlus 11 5G  ₹54,999    89.0   \n",
       "1           OnePlus Nord CE 2 Lite 5G  ₹19,989    81.0   \n",
       "2               Samsung Galaxy A14 5G  ₹16,499    75.0   \n",
       "3                Motorola Moto G62 5G  ₹14,999    81.0   \n",
       "4                  Realme 10 Pro Plus  ₹24,999    82.0   \n",
       "...                               ...      ...     ...   \n",
       "1015       Motorola Moto Edge S30 Pro  ₹34,990    83.0   \n",
       "1016                      Honor X8 5G  ₹14,990    75.0   \n",
       "1017  POCO X4 GT 5G (8GB RAM + 256GB)  ₹28,990    85.0   \n",
       "1018             Motorola Moto G91 5G  ₹19,990    80.0   \n",
       "1019           Samsung Galaxy M52s 5G  ₹24,990    74.0   \n",
       "\n",
       "                                                    sim  \\\n",
       "0               Dual Sim, 3G, 4G, 5G, VoLTE, Wi-Fi, NFC   \n",
       "1                    Dual Sim, 3G, 4G, 5G, VoLTE, Wi-Fi   \n",
       "2                    Dual Sim, 3G, 4G, 5G, VoLTE, Wi-Fi   \n",
       "3                    Dual Sim, 3G, 4G, 5G, VoLTE, Wi-Fi   \n",
       "4                    Dual Sim, 3G, 4G, 5G, VoLTE, Wi-Fi   \n",
       "...                                                 ...   \n",
       "1015                 Dual Sim, 3G, 4G, 5G, VoLTE, Wi-Fi   \n",
       "1016                 Dual Sim, 3G, 4G, 5G, VoLTE, Wi-Fi   \n",
       "1017  Dual Sim, 3G, 4G, 5G, VoLTE, Wi-Fi, NFC, IR Bl...   \n",
       "1018            Dual Sim, 3G, 4G, 5G, VoLTE, Wi-Fi, NFC   \n",
       "1019                 Dual Sim, 3G, 4G, 5G, VoLTE, Wi-Fi   \n",
       "\n",
       "                                            processor  \\\n",
       "0     Snapdragon 8 Gen2, Octa Core, 3.2 GHz Processor   \n",
       "1        Snapdragon 695, Octa Core, 2.2 GHz Processor   \n",
       "2           Exynos 1330, Octa Core, 2.4 GHz Processor   \n",
       "3       Snapdragon  695, Octa Core, 2.2 GHz Processor   \n",
       "4        Dimensity 1080, Octa Core, 2.6 GHz Processor   \n",
       "...                                               ...   \n",
       "1015    Snapdragon 8 Gen1, Octa Core, 3 GHz Processor   \n",
       "1016   Snapdragon  480+, Octa Core, 2.2 GHz Processor   \n",
       "1017    Dimensity 8100, Octa Core, 2.85 GHz Processor   \n",
       "1018     Snapdragon 695, Octa Core, 2.2 GHz Processor   \n",
       "1019                              Octa Core Processor   \n",
       "\n",
       "                            ram                                    battery  \\\n",
       "0     12 GB RAM, 256 GB inbuilt   5000 mAh Battery with 100W Fast Charging   \n",
       "1      6 GB RAM, 128 GB inbuilt    5000 mAh Battery with 33W Fast Charging   \n",
       "2       4 GB RAM, 64 GB inbuilt    5000 mAh Battery with 15W Fast Charging   \n",
       "3      6 GB RAM, 128 GB inbuilt        5000 mAh Battery with Fast Charging   \n",
       "4      6 GB RAM, 128 GB inbuilt    5000 mAh Battery with 67W Fast Charging   \n",
       "...                         ...                                        ...   \n",
       "1015   8 GB RAM, 128 GB inbuilt  5000 mAh Battery with 68.2W Fast Charging   \n",
       "1016   6 GB RAM, 128 GB inbuilt  5000 mAh Battery with 22.5W Fast Charging   \n",
       "1017   8 GB RAM, 256 GB inbuilt    5080 mAh Battery with 67W Fast Charging   \n",
       "1018   6 GB RAM, 128 GB inbuilt        5000 mAh Battery with Fast Charging   \n",
       "1019   8 GB RAM, 128 GB inbuilt        5000 mAh Battery with Fast Charging   \n",
       "\n",
       "                                                display  \\\n",
       "0     6.7 inches, 1440 x 3216 px, 120 Hz Display wit...   \n",
       "1     6.59 inches, 1080 x 2412 px, 120 Hz Display wi...   \n",
       "2     6.6 inches, 1080 x 2408 px, 90 Hz Display with...   \n",
       "3     6.55 inches, 1080 x 2400 px, 120 Hz Display wi...   \n",
       "4     6.7 inches, 1080 x 2412 px, 120 Hz Display wit...   \n",
       "...                                                 ...   \n",
       "1015  6.67 inches, 1080 x 2460 px, 120 Hz Display wi...   \n",
       "1016  6.5 inches, 720 x 1600 px Display with Water D...   \n",
       "1017  6.6 inches, 1080 x 2460 px, 144 Hz Display wit...   \n",
       "1018  6.8 inches, 1080 x 2400 px Display with Punch ...   \n",
       "1019  6.5 inches, 1080 x 2400 px Display with Water ...   \n",
       "\n",
       "                                                 camera  \\\n",
       "0     50 MP + 48 MP + 32 MP Triple Rear & 16 MP Fron...   \n",
       "1     64 MP + 2 MP + 2 MP Triple Rear & 16 MP Front ...   \n",
       "2     50 MP + 2 MP + 2 MP Triple Rear & 13 MP Front ...   \n",
       "3     50 MP + 8 MP + 2 MP Triple Rear & 16 MP Front ...   \n",
       "4     108 MP + 8 MP + 2 MP Triple Rear & 16 MP Front...   \n",
       "...                                                 ...   \n",
       "1015  64 MP + 8 MP + 2 MP Triple Rear & 16 MP Front ...   \n",
       "1016  48 MP + 2 MP + Depth Sensor Triple Rear & 8 MP...   \n",
       "1017  64 MP + 8 MP + 2 MP Triple Rear & 16 MP Front ...   \n",
       "1018  108 MP + 8 MP + 2 MP Triple Rear & 32 MP Front...   \n",
       "1019  64 MP + 8 MP + 5 MP Triple Rear & 32 MP Front ...   \n",
       "\n",
       "                                  card           os  \n",
       "0            Memory Card Not Supported  Android v13  \n",
       "1      Memory Card (Hybrid), upto 1 TB  Android v12  \n",
       "2     Memory Card Supported, upto 1 TB  Android v13  \n",
       "3      Memory Card (Hybrid), upto 1 TB  Android v12  \n",
       "4            Memory Card Not Supported  Android v13  \n",
       "...                                ...          ...  \n",
       "1015                       Android v12  No FM Radio  \n",
       "1016  Memory Card Supported, upto 1 TB  Android v11  \n",
       "1017         Memory Card Not Supported  Android v12  \n",
       "1018  Memory Card Supported, upto 1 TB  Android v12  \n",
       "1019  Memory Card Supported, upto 1 TB  Android v12  \n",
       "\n",
       "[1020 rows x 11 columns]"
      ]
     },
     "execution_count": 2,
     "metadata": {},
     "output_type": "execute_result"
    }
   ],
   "source": [
    "df=pd.read_csv('smartphones.csv')\n",
    "df"
   ]
  },
  {
   "cell_type": "code",
   "execution_count": 11,
   "id": "5410ee5a-888b-4e5f-b41b-8cf20521d7f0",
   "metadata": {},
   "outputs": [
    {
     "data": {
      "text/html": [
       "<div>\n",
       "<style scoped>\n",
       "    .dataframe tbody tr th:only-of-type {\n",
       "        vertical-align: middle;\n",
       "    }\n",
       "\n",
       "    .dataframe tbody tr th {\n",
       "        vertical-align: top;\n",
       "    }\n",
       "\n",
       "    .dataframe thead th {\n",
       "        text-align: right;\n",
       "    }\n",
       "</style>\n",
       "<table border=\"1\" class=\"dataframe\">\n",
       "  <thead>\n",
       "    <tr style=\"text-align: right;\">\n",
       "      <th></th>\n",
       "      <th>model</th>\n",
       "      <th>price</th>\n",
       "      <th>rating</th>\n",
       "      <th>sim</th>\n",
       "      <th>processor</th>\n",
       "      <th>ram</th>\n",
       "      <th>battery</th>\n",
       "      <th>display</th>\n",
       "      <th>camera</th>\n",
       "      <th>card</th>\n",
       "      <th>os</th>\n",
       "    </tr>\n",
       "  </thead>\n",
       "  <tbody>\n",
       "    <tr>\n",
       "      <th>0</th>\n",
       "      <td>OnePlus 11 5G</td>\n",
       "      <td>₹54,999</td>\n",
       "      <td>89.0</td>\n",
       "      <td>Dual Sim, 3G, 4G, 5G, VoLTE, Wi-Fi, NFC</td>\n",
       "      <td>Snapdragon 8 Gen2, Octa Core, 3.2 GHz Processor</td>\n",
       "      <td>12 GB RAM, 256 GB inbuilt</td>\n",
       "      <td>5000 mAh Battery with 100W Fast Charging</td>\n",
       "      <td>6.7 inches, 1440 x 3216 px, 120 Hz Display wit...</td>\n",
       "      <td>50 MP + 48 MP + 32 MP Triple Rear &amp; 16 MP Fron...</td>\n",
       "      <td>Memory Card Not Supported</td>\n",
       "      <td>Android v13</td>\n",
       "    </tr>\n",
       "    <tr>\n",
       "      <th>1</th>\n",
       "      <td>OnePlus Nord CE 2 Lite 5G</td>\n",
       "      <td>₹19,989</td>\n",
       "      <td>81.0</td>\n",
       "      <td>Dual Sim, 3G, 4G, 5G, VoLTE, Wi-Fi</td>\n",
       "      <td>Snapdragon 695, Octa Core, 2.2 GHz Processor</td>\n",
       "      <td>6 GB RAM, 128 GB inbuilt</td>\n",
       "      <td>5000 mAh Battery with 33W Fast Charging</td>\n",
       "      <td>6.59 inches, 1080 x 2412 px, 120 Hz Display wi...</td>\n",
       "      <td>64 MP + 2 MP + 2 MP Triple Rear &amp; 16 MP Front ...</td>\n",
       "      <td>Memory Card (Hybrid), upto 1 TB</td>\n",
       "      <td>Android v12</td>\n",
       "    </tr>\n",
       "    <tr>\n",
       "      <th>2</th>\n",
       "      <td>Samsung Galaxy A14 5G</td>\n",
       "      <td>₹16,499</td>\n",
       "      <td>75.0</td>\n",
       "      <td>Dual Sim, 3G, 4G, 5G, VoLTE, Wi-Fi</td>\n",
       "      <td>Exynos 1330, Octa Core, 2.4 GHz Processor</td>\n",
       "      <td>4 GB RAM, 64 GB inbuilt</td>\n",
       "      <td>5000 mAh Battery with 15W Fast Charging</td>\n",
       "      <td>6.6 inches, 1080 x 2408 px, 90 Hz Display with...</td>\n",
       "      <td>50 MP + 2 MP + 2 MP Triple Rear &amp; 13 MP Front ...</td>\n",
       "      <td>Memory Card Supported, upto 1 TB</td>\n",
       "      <td>Android v13</td>\n",
       "    </tr>\n",
       "    <tr>\n",
       "      <th>3</th>\n",
       "      <td>Motorola Moto G62 5G</td>\n",
       "      <td>₹14,999</td>\n",
       "      <td>81.0</td>\n",
       "      <td>Dual Sim, 3G, 4G, 5G, VoLTE, Wi-Fi</td>\n",
       "      <td>Snapdragon  695, Octa Core, 2.2 GHz Processor</td>\n",
       "      <td>6 GB RAM, 128 GB inbuilt</td>\n",
       "      <td>5000 mAh Battery with Fast Charging</td>\n",
       "      <td>6.55 inches, 1080 x 2400 px, 120 Hz Display wi...</td>\n",
       "      <td>50 MP + 8 MP + 2 MP Triple Rear &amp; 16 MP Front ...</td>\n",
       "      <td>Memory Card (Hybrid), upto 1 TB</td>\n",
       "      <td>Android v12</td>\n",
       "    </tr>\n",
       "    <tr>\n",
       "      <th>4</th>\n",
       "      <td>Realme 10 Pro Plus</td>\n",
       "      <td>₹24,999</td>\n",
       "      <td>82.0</td>\n",
       "      <td>Dual Sim, 3G, 4G, 5G, VoLTE, Wi-Fi</td>\n",
       "      <td>Dimensity 1080, Octa Core, 2.6 GHz Processor</td>\n",
       "      <td>6 GB RAM, 128 GB inbuilt</td>\n",
       "      <td>5000 mAh Battery with 67W Fast Charging</td>\n",
       "      <td>6.7 inches, 1080 x 2412 px, 120 Hz Display wit...</td>\n",
       "      <td>108 MP + 8 MP + 2 MP Triple Rear &amp; 16 MP Front...</td>\n",
       "      <td>Memory Card Not Supported</td>\n",
       "      <td>Android v13</td>\n",
       "    </tr>\n",
       "  </tbody>\n",
       "</table>\n",
       "</div>"
      ],
      "text/plain": [
       "                       model    price  rating  \\\n",
       "0              OnePlus 11 5G  ₹54,999    89.0   \n",
       "1  OnePlus Nord CE 2 Lite 5G  ₹19,989    81.0   \n",
       "2      Samsung Galaxy A14 5G  ₹16,499    75.0   \n",
       "3       Motorola Moto G62 5G  ₹14,999    81.0   \n",
       "4         Realme 10 Pro Plus  ₹24,999    82.0   \n",
       "\n",
       "                                       sim  \\\n",
       "0  Dual Sim, 3G, 4G, 5G, VoLTE, Wi-Fi, NFC   \n",
       "1       Dual Sim, 3G, 4G, 5G, VoLTE, Wi-Fi   \n",
       "2       Dual Sim, 3G, 4G, 5G, VoLTE, Wi-Fi   \n",
       "3       Dual Sim, 3G, 4G, 5G, VoLTE, Wi-Fi   \n",
       "4       Dual Sim, 3G, 4G, 5G, VoLTE, Wi-Fi   \n",
       "\n",
       "                                         processor                        ram  \\\n",
       "0  Snapdragon 8 Gen2, Octa Core, 3.2 GHz Processor  12 GB RAM, 256 GB inbuilt   \n",
       "1     Snapdragon 695, Octa Core, 2.2 GHz Processor   6 GB RAM, 128 GB inbuilt   \n",
       "2        Exynos 1330, Octa Core, 2.4 GHz Processor    4 GB RAM, 64 GB inbuilt   \n",
       "3    Snapdragon  695, Octa Core, 2.2 GHz Processor   6 GB RAM, 128 GB inbuilt   \n",
       "4     Dimensity 1080, Octa Core, 2.6 GHz Processor   6 GB RAM, 128 GB inbuilt   \n",
       "\n",
       "                                    battery  \\\n",
       "0  5000 mAh Battery with 100W Fast Charging   \n",
       "1   5000 mAh Battery with 33W Fast Charging   \n",
       "2   5000 mAh Battery with 15W Fast Charging   \n",
       "3       5000 mAh Battery with Fast Charging   \n",
       "4   5000 mAh Battery with 67W Fast Charging   \n",
       "\n",
       "                                             display  \\\n",
       "0  6.7 inches, 1440 x 3216 px, 120 Hz Display wit...   \n",
       "1  6.59 inches, 1080 x 2412 px, 120 Hz Display wi...   \n",
       "2  6.6 inches, 1080 x 2408 px, 90 Hz Display with...   \n",
       "3  6.55 inches, 1080 x 2400 px, 120 Hz Display wi...   \n",
       "4  6.7 inches, 1080 x 2412 px, 120 Hz Display wit...   \n",
       "\n",
       "                                              camera  \\\n",
       "0  50 MP + 48 MP + 32 MP Triple Rear & 16 MP Fron...   \n",
       "1  64 MP + 2 MP + 2 MP Triple Rear & 16 MP Front ...   \n",
       "2  50 MP + 2 MP + 2 MP Triple Rear & 13 MP Front ...   \n",
       "3  50 MP + 8 MP + 2 MP Triple Rear & 16 MP Front ...   \n",
       "4  108 MP + 8 MP + 2 MP Triple Rear & 16 MP Front...   \n",
       "\n",
       "                               card           os  \n",
       "0         Memory Card Not Supported  Android v13  \n",
       "1   Memory Card (Hybrid), upto 1 TB  Android v12  \n",
       "2  Memory Card Supported, upto 1 TB  Android v13  \n",
       "3   Memory Card (Hybrid), upto 1 TB  Android v12  \n",
       "4         Memory Card Not Supported  Android v13  "
      ]
     },
     "execution_count": 11,
     "metadata": {},
     "output_type": "execute_result"
    }
   ],
   "source": [
    "df.head()"
   ]
  },
  {
   "cell_type": "code",
   "execution_count": 6,
   "id": "2c227536-968e-4780-8538-1974a915ee3f",
   "metadata": {},
   "outputs": [
    {
     "name": "stdout",
     "output_type": "stream",
     "text": [
      "<class 'pandas.core.frame.DataFrame'>\n",
      "RangeIndex: 1020 entries, 0 to 1019\n",
      "Data columns (total 11 columns):\n",
      " #   Column     Non-Null Count  Dtype  \n",
      "---  ------     --------------  -----  \n",
      " 0   model      1020 non-null   object \n",
      " 1   price      1020 non-null   object \n",
      " 2   rating     879 non-null    float64\n",
      " 3   sim        1020 non-null   object \n",
      " 4   processor  1020 non-null   object \n",
      " 5   ram        1020 non-null   object \n",
      " 6   battery    1020 non-null   object \n",
      " 7   display    1020 non-null   object \n",
      " 8   camera     1019 non-null   object \n",
      " 9   card       1013 non-null   object \n",
      " 10  os         1003 non-null   object \n",
      "dtypes: float64(1), object(10)\n",
      "memory usage: 87.8+ KB\n"
     ]
    }
   ],
   "source": [
    "df.info()"
   ]
  },
  {
   "cell_type": "code",
   "execution_count": 4,
   "id": "87a48e98-790d-4951-b524-313164e7513b",
   "metadata": {},
   "outputs": [
    {
     "data": {
      "text/html": [
       "<div>\n",
       "<style scoped>\n",
       "    .dataframe tbody tr th:only-of-type {\n",
       "        vertical-align: middle;\n",
       "    }\n",
       "\n",
       "    .dataframe tbody tr th {\n",
       "        vertical-align: top;\n",
       "    }\n",
       "\n",
       "    .dataframe thead th {\n",
       "        text-align: right;\n",
       "    }\n",
       "</style>\n",
       "<table border=\"1\" class=\"dataframe\">\n",
       "  <thead>\n",
       "    <tr style=\"text-align: right;\">\n",
       "      <th></th>\n",
       "      <th>rating</th>\n",
       "    </tr>\n",
       "  </thead>\n",
       "  <tbody>\n",
       "    <tr>\n",
       "      <th>count</th>\n",
       "      <td>879.000000</td>\n",
       "    </tr>\n",
       "    <tr>\n",
       "      <th>mean</th>\n",
       "      <td>78.258248</td>\n",
       "    </tr>\n",
       "    <tr>\n",
       "      <th>std</th>\n",
       "      <td>7.402854</td>\n",
       "    </tr>\n",
       "    <tr>\n",
       "      <th>min</th>\n",
       "      <td>60.000000</td>\n",
       "    </tr>\n",
       "    <tr>\n",
       "      <th>25%</th>\n",
       "      <td>74.000000</td>\n",
       "    </tr>\n",
       "    <tr>\n",
       "      <th>50%</th>\n",
       "      <td>80.000000</td>\n",
       "    </tr>\n",
       "    <tr>\n",
       "      <th>75%</th>\n",
       "      <td>84.000000</td>\n",
       "    </tr>\n",
       "    <tr>\n",
       "      <th>max</th>\n",
       "      <td>89.000000</td>\n",
       "    </tr>\n",
       "  </tbody>\n",
       "</table>\n",
       "</div>"
      ],
      "text/plain": [
       "           rating\n",
       "count  879.000000\n",
       "mean    78.258248\n",
       "std      7.402854\n",
       "min     60.000000\n",
       "25%     74.000000\n",
       "50%     80.000000\n",
       "75%     84.000000\n",
       "max     89.000000"
      ]
     },
     "execution_count": 4,
     "metadata": {},
     "output_type": "execute_result"
    }
   ],
   "source": [
    "df.describe()"
   ]
  },
  {
   "cell_type": "code",
   "execution_count": 12,
   "id": "25d89a6c-4af5-4cb0-8fae-86a3cec69a1e",
   "metadata": {},
   "outputs": [
    {
     "data": {
      "text/plain": [
       "model          0\n",
       "price          0\n",
       "rating       141\n",
       "sim            0\n",
       "processor      0\n",
       "ram            0\n",
       "battery        0\n",
       "display        0\n",
       "camera         1\n",
       "card           7\n",
       "os            17\n",
       "dtype: int64"
      ]
     },
     "execution_count": 12,
     "metadata": {},
     "output_type": "execute_result"
    }
   ],
   "source": [
    "df.isnull().sum()"
   ]
  },
  {
   "cell_type": "code",
   "execution_count": 14,
   "id": "24f4057d-873d-4658-84b5-78749b443cda",
   "metadata": {},
   "outputs": [
    {
     "data": {
      "text/plain": [
       "model         0\n",
       "price         0\n",
       "rating        0\n",
       "sim           0\n",
       "processor     0\n",
       "ram           0\n",
       "battery       0\n",
       "display       0\n",
       "camera        1\n",
       "card          7\n",
       "os           17\n",
       "dtype: int64"
      ]
     },
     "execution_count": 14,
     "metadata": {},
     "output_type": "execute_result"
    }
   ],
   "source": [
    "df['rating']=df['rating'].fillna(df['rating'].median())\n",
    "df.isnull().sum()"
   ]
  },
  {
   "cell_type": "code",
   "execution_count": 22,
   "id": "10a82e9b-1c26-4fe2-a009-1736fccbe7bb",
   "metadata": {},
   "outputs": [
    {
     "data": {
      "text/plain": [
       "model        0\n",
       "price        0\n",
       "rating       0\n",
       "sim          0\n",
       "processor    0\n",
       "ram          0\n",
       "battery      0\n",
       "display      0\n",
       "camera       1\n",
       "card         0\n",
       "os           0\n",
       "dtype: int64"
      ]
     },
     "execution_count": 22,
     "metadata": {},
     "output_type": "execute_result"
    }
   ],
   "source": [
    "df['card'] = df['card'].fillna(df['card'].mode()[0])\n",
    "df['os'] = df['os'].fillna(df['os'].mode()[0])\n",
    "df.isnull().sum()"
   ]
  },
  {
   "cell_type": "code",
   "execution_count": 24,
   "id": "161e2cbe-4e6f-40e9-97c3-d64aa9de0a60",
   "metadata": {},
   "outputs": [],
   "source": [
    "df.drop(columns=['camera'], inplace=True)"
   ]
  },
  {
   "cell_type": "code",
   "execution_count": 25,
   "id": "d18074cd-badb-4301-96bd-a5632bb2c91b",
   "metadata": {},
   "outputs": [
    {
     "data": {
      "text/plain": [
       "model        0\n",
       "price        0\n",
       "rating       0\n",
       "sim          0\n",
       "processor    0\n",
       "ram          0\n",
       "battery      0\n",
       "display      0\n",
       "card         0\n",
       "os           0\n",
       "dtype: int64"
      ]
     },
     "execution_count": 25,
     "metadata": {},
     "output_type": "execute_result"
    }
   ],
   "source": [
    "df.isnull().sum()"
   ]
  },
  {
   "cell_type": "code",
   "execution_count": 26,
   "id": "af9fc4f7-865a-49f8-8114-2157908bd904",
   "metadata": {},
   "outputs": [
    {
     "data": {
      "text/plain": [
       "np.int64(0)"
      ]
     },
     "execution_count": 26,
     "metadata": {},
     "output_type": "execute_result"
    }
   ],
   "source": [
    "df.duplicated().sum()"
   ]
  },
  {
   "cell_type": "code",
   "execution_count": 27,
   "id": "02050bcb-d9be-4b69-bb5e-646b85af56af",
   "metadata": {},
   "outputs": [
    {
     "data": {
      "text/plain": [
       "model         object\n",
       "price         object\n",
       "rating       float64\n",
       "sim           object\n",
       "processor     object\n",
       "ram           object\n",
       "battery       object\n",
       "display       object\n",
       "card          object\n",
       "os            object\n",
       "dtype: object"
      ]
     },
     "execution_count": 27,
     "metadata": {},
     "output_type": "execute_result"
    }
   ],
   "source": [
    "df.dtypes"
   ]
  },
  {
   "cell_type": "code",
   "execution_count": 28,
   "id": "f9083e59-1d13-4c54-af23-c96e3eea9bf2",
   "metadata": {},
   "outputs": [
    {
     "data": {
      "text/plain": [
       "model         object\n",
       "price        float64\n",
       "rating       float64\n",
       "sim           object\n",
       "processor     object\n",
       "ram           object\n",
       "battery       object\n",
       "display       object\n",
       "card          object\n",
       "os            object\n",
       "dtype: object"
      ]
     },
     "execution_count": 28,
     "metadata": {},
     "output_type": "execute_result"
    }
   ],
   "source": [
    "df['price']=pd.to_numeric(df['price'], errors='coerce')\n",
    "df['rating']=pd.to_numeric(df['rating'], errors='coerce')\n",
    "df.dtypes"
   ]
  },
  {
   "cell_type": "code",
   "execution_count": 30,
   "id": "d7d42fab-f662-4547-962e-e40c67f6c9d2",
   "metadata": {},
   "outputs": [
    {
     "name": "stdout",
     "output_type": "stream",
     "text": [
      "<class 'pandas.core.frame.DataFrame'>\n",
      "RangeIndex: 1020 entries, 0 to 1019\n",
      "Data columns (total 10 columns):\n",
      " #   Column     Non-Null Count  Dtype  \n",
      "---  ------     --------------  -----  \n",
      " 0   model      1020 non-null   object \n",
      " 1   price      0 non-null      float64\n",
      " 2   rating     1020 non-null   float64\n",
      " 3   sim        1020 non-null   object \n",
      " 4   processor  1020 non-null   object \n",
      " 5   ram        1020 non-null   object \n",
      " 6   battery    1020 non-null   object \n",
      " 7   display    1020 non-null   object \n",
      " 8   card       1020 non-null   object \n",
      " 9   os         1020 non-null   object \n",
      "dtypes: float64(2), object(8)\n",
      "memory usage: 79.8+ KB\n"
     ]
    }
   ],
   "source": [
    "#remove the '₹' symbol and the ',' separator\n",
    "df['price'] =df['price'].astype(str).replace('₹','',regex=False).str.replace(',','',regex=False)\n",
    "\n",
    "df['price']=pd.to_numeric(df['price'],errors='coerce')\n",
    "df.info()"
   ]
  },
  {
   "cell_type": "code",
   "execution_count": 31,
   "id": "1903c17f-d406-4aa0-b367-cb8cbc7c7f81",
   "metadata": {},
   "outputs": [
    {
     "name": "stdout",
     "output_type": "stream",
     "text": [
      "<class 'pandas.core.frame.DataFrame'>\n",
      "RangeIndex: 1020 entries, 0 to 1019\n",
      "Data columns (total 10 columns):\n",
      " #   Column     Non-Null Count  Dtype  \n",
      "---  ------     --------------  -----  \n",
      " 0   model      1020 non-null   object \n",
      " 1   price      0 non-null      float64\n",
      " 2   rating     1020 non-null   float64\n",
      " 3   sim        1020 non-null   object \n",
      " 4   processor  1020 non-null   object \n",
      " 5   battery    1020 non-null   object \n",
      " 6   display    1020 non-null   object \n",
      " 7   card       1020 non-null   object \n",
      " 8   os         1020 non-null   object \n",
      " 9   ram_gb     985 non-null    float64\n",
      "dtypes: float64(3), object(7)\n",
      "memory usage: 79.8+ KB\n"
     ]
    }
   ],
   "source": [
    "#Extract the RAM size and create a new column, 'ram_gb'.\n",
    "df['ram_gb'] = df['ram'].str.extract(r'(\\d+)\\s*GB').astype(float)\n",
    "\n",
    "df.drop('ram', axis=1, inplace=True)\n",
    "df.info()"
   ]
  },
  {
   "cell_type": "code",
   "execution_count": 32,
   "id": "57a7732b-5ff9-44db-bb51-b8ae56d1322d",
   "metadata": {},
   "outputs": [
    {
     "name": "stdout",
     "output_type": "stream",
     "text": [
      "<class 'pandas.core.frame.DataFrame'>\n",
      "RangeIndex: 1020 entries, 0 to 1019\n",
      "Data columns (total 10 columns):\n",
      " #   Column       Non-Null Count  Dtype  \n",
      "---  ------       --------------  -----  \n",
      " 0   model        1020 non-null   object \n",
      " 1   price        0 non-null      float64\n",
      " 2   rating       1020 non-null   float64\n",
      " 3   sim          1020 non-null   object \n",
      " 4   processor    1020 non-null   object \n",
      " 5   display      1020 non-null   object \n",
      " 6   card         1020 non-null   object \n",
      " 7   os           1020 non-null   object \n",
      " 8   ram_gb       985 non-null    float64\n",
      " 9   battery_mah  987 non-null    float64\n",
      "dtypes: float64(4), object(6)\n",
      "memory usage: 79.8+ KB\n"
     ]
    }
   ],
   "source": [
    "#Extract the battery capacity  and create a new column\n",
    "df['battery_mah'] = df['battery'].str.extract(r'(\\d+)\\s*mAh').astype(float)\n",
    "\n",
    "# B. Drop the original messy 'battery' column\n",
    "df.drop('battery', axis=1, inplace=True)\n",
    "df.info()"
   ]
  },
  {
   "cell_type": "code",
   "execution_count": 33,
   "id": "64e84eb6-2551-40fd-bf08-7a35c2e0b9a6",
   "metadata": {},
   "outputs": [
    {
     "name": "stdout",
     "output_type": "stream",
     "text": [
      "<class 'pandas.core.frame.DataFrame'>\n",
      "RangeIndex: 1020 entries, 0 to 1019\n",
      "Data columns (total 10 columns):\n",
      " #   Column          Non-Null Count  Dtype  \n",
      "---  ------          --------------  -----  \n",
      " 0   model           1020 non-null   object \n",
      " 1   price           0 non-null      float64\n",
      " 2   rating          1020 non-null   float64\n",
      " 3   sim             1020 non-null   object \n",
      " 4   processor       1020 non-null   object \n",
      " 5   card            1020 non-null   object \n",
      " 6   os              1020 non-null   object \n",
      " 7   ram_gb          985 non-null    float64\n",
      " 8   battery_mah     987 non-null    float64\n",
      " 9   display_inches  987 non-null    float64\n",
      "dtypes: float64(5), object(5)\n",
      "memory usage: 79.8+ KB\n"
     ]
    }
   ],
   "source": [
    "#extract the display size (the number before 'inches')\n",
    "#we look for a number that might have a decimal point \n",
    "df['display_inches'] = df['display'].str.extract(r'(\\d+\\.?\\d*)\\s*inches').astype(float)\n",
    "\n",
    "# Drop the original messy 'display' column\n",
    "df.drop('display', axis=1, inplace=True)\n",
    "\n",
    "# Check the results (always check after a cleaning step!)\n",
    "df.info()"
   ]
  },
  {
   "cell_type": "code",
   "execution_count": 35,
   "id": "d815f67f-6cdc-4623-b87f-fe404f4a9e7e",
   "metadata": {},
   "outputs": [
    {
     "data": {
      "text/plain": [
       "model                0\n",
       "price             1020\n",
       "rating               0\n",
       "sim                  0\n",
       "processor            0\n",
       "card                 0\n",
       "os                   0\n",
       "ram_gb              35\n",
       "battery_mah         33\n",
       "display_inches      33\n",
       "dtype: int64"
      ]
     },
     "execution_count": 35,
     "metadata": {},
     "output_type": "execute_result"
    }
   ],
   "source": [
    "#Check for any remaining missing values created during extraction\n",
    "df.isnull().sum()"
   ]
  },
  {
   "cell_type": "code",
   "execution_count": 36,
   "id": "890e365f-b69a-4af4-a451-21aae4c69926",
   "metadata": {},
   "outputs": [
    {
     "data": {
      "text/plain": [
       "model                0\n",
       "price             1020\n",
       "rating               0\n",
       "sim                  0\n",
       "processor            0\n",
       "card                 0\n",
       "os                   0\n",
       "ram_gb               0\n",
       "battery_mah          0\n",
       "display_inches       0\n",
       "dtype: int64"
      ]
     },
     "execution_count": 36,
     "metadata": {},
     "output_type": "execute_result"
    }
   ],
   "source": [
    "#Imputing the remaining missing values with the median of each column\n",
    "impute_cols = ['ram_gb', 'battery_mah', 'display_inches']\n",
    "\n",
    "# Fill NaNs in the selected columns using the median calculated from each column\n",
    "df[impute_cols] = df[impute_cols].fillna(df[impute_cols].median())\n",
    "\n",
    "df.isnull().sum()"
   ]
  },
  {
   "cell_type": "code",
   "execution_count": 37,
   "id": "e063eb8e-552d-427c-a39b-0695619ca52b",
   "metadata": {},
   "outputs": [
    {
     "data": {
      "text/plain": [
       "model                0\n",
       "price             1020\n",
       "rating               0\n",
       "sim                  0\n",
       "processor            0\n",
       "card                 0\n",
       "os                   0\n",
       "ram_gb               0\n",
       "battery_mah          0\n",
       "display_inches       0\n",
       "dtype: int64"
      ]
     },
     "execution_count": 37,
     "metadata": {},
     "output_type": "execute_result"
    }
   ],
   "source": [
    "#Imputing the remaining missing values with the median of each column\n",
    "impute_cols = ['ram_gb', 'battery_mah', 'display_inches']\n",
    "\n",
    "# Fill NaNs in the selected columns using the median calculated from each column\n",
    "df[impute_cols] = df[impute_cols].fillna(df[impute_cols].median())\n",
    "\n",
    "df.isnull().sum()"
   ]
  },
  {
   "cell_type": "code",
   "execution_count": 39,
   "id": "6adfcb71-673b-49b6-9e64-60a915cac428",
   "metadata": {},
   "outputs": [],
   "source": [
    "df['price'] = df['price'].astype(str).str.replace('₹', '', regex=False).str.replace(',', '', regex=False)\n",
    "\n",
    "df['price'] = pd.to_numeric(df['price'], errors='coerce')"
   ]
  },
  {
   "cell_type": "code",
   "execution_count": null,
   "id": "30ab2b34-3933-4538-91e5-c470f862d77e",
   "metadata": {},
   "outputs": [],
   "source": [
    "df"
   ]
  }
 ],
 "metadata": {
  "kernelspec": {
   "display_name": "Python [conda env:base] *",
   "language": "python",
   "name": "conda-base-py"
  },
  "language_info": {
   "codemirror_mode": {
    "name": "ipython",
    "version": 3
   },
   "file_extension": ".py",
   "mimetype": "text/x-python",
   "name": "python",
   "nbconvert_exporter": "python",
   "pygments_lexer": "ipython3",
   "version": "3.13.5"
  }
 },
 "nbformat": 4,
 "nbformat_minor": 5
}
